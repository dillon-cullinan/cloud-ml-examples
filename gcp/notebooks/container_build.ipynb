{
 "cells": [
  {
   "cell_type": "markdown",
   "metadata": {
    "pycharm": {
     "name": "#%% md\n"
    }
   },
   "source": [
    "### Configure Environment, and Build 'Custom Training Container'\n",
    "In order to do custom model training, with RAPIDS, on GCP's AI Platform, we first need to build a container that encapsulates the models and code required."
   ]
  },
  {
   "cell_type": "code",
   "execution_count": null,
   "metadata": {
    "pycharm": {
     "is_executing": false,
     "name": "#%%bash\n"
    }
   },
   "outputs": [],
   "source": [
    "## GCLOUD_BIN_PATH=[path to the location where 'gcloud' bin is installed]\n",
    "## See: https://cloud.google.com/sdk/install\n",
    "import json\n",
    "import os\n",
    "import subprocess\n",
    "\n",
    "GCLOUD_BIN_PATH = \"[/path/to/gcloud/location]\"\n",
    "GCP_PROJECT_NAME = \"[YOUR PROJECT NAME]\"\n",
    "GCP_STORAGE_PATH = \"[PATH TO GCP STORAGE LOCATION]\" # Ex. gs://[path_to_your_data]/subdir\n",
    "\n",
    "\n",
    "gcloud_env = os.environ.copy()\n",
    "gcloud_env[\"PATH\"] = f\"{gcloud_env['PATH']}:{GCLOUD_BIN_PATH}\"\n",
    "def exec_cmd_and_return(*popenargs, **kwargs):\n",
    "    process = subprocess.Popen(stdout=subprocess.PIPE, stderr=subprocess.PIPE,\n",
    "                               env=gcloud_env, *popenargs, **kwargs)\n",
    "    output, err = process.communicate()\n",
    "    return_code = process.poll()\n",
    "\n",
    "    output = str(output.decode())\n",
    "\n",
    "    return (return_code, output + str(err))\n",
    "\n",
    "command = \"docker build -t gcp_training_test --file Dockerfile.training ./\".split()\n",
    "_, result = exec_cmd_and_return(command)\n",
    "print(result)\n",
    "\n",
    "command = f\"docker tag gcp_training_test:latest gcr.io/{GCP_PROJECT_NAME}/gcp_rapids_training:latest\".split()\n",
    "_, result = exec_cmd_and_return(command)\n",
    "print(result)"
   ]
  },
  {
   "cell_type": "markdown",
   "metadata": {
    "pycharm": {
     "name": "#%% md\n"
    }
   },
   "source": [
    "### Push 'Custom Training Container'\n",
    "Once our container has successfully been built, we push it to the Google Container Registry (GCR)."
   ]
  },
  {
   "cell_type": "code",
   "execution_count": null,
   "metadata": {
    "pycharm": {
     "name": "#%%\n"
    }
   },
   "outputs": [],
   "source": [
    "command = f\"docker push gcr.io/{GCP_PROJECT_NAME}/gcp_rapids_training:latest\".split()\n",
    "_, result = exec_cmd_and_return(command)\n",
    "print(result)\n",
    "\n",
    "command = \"gcloud auth configure-docker\".split()\n",
    "_, result = exec_cmd_and_return(command)\n",
    "print(result)"
   ]
  },
  {
   "cell_type": "markdown",
   "metadata": {},
   "source": [
    "### Create Training Script\n",
    "Starting a custom training job on GCP requires you to define a configuration describing what to test, and how hyper-parameter optimization should work."
   ]
  },
  {
   "cell_type": "code",
   "execution_count": null,
   "metadata": {
    "pycharm": {
     "name": "#%%\n"
    }
   },
   "outputs": [],
   "source": [
    "config_name = \"gcloud_training_config.json\"\n",
    "config = {\n",
    "    \"trainingInput\": {\n",
    "        \"args\": [\n",
    "            \"--train\",\n",
    "            \"--do-hpo\",\n",
    "            \"--hpo-num-bins=64\",\n",
    "            \"--cloud-type=GCP\",\n",
    "            \"--compute-type=GPU\",\n",
    "            f\"--data-input-path=gs://{GCP_STORAGE_PATH}\",\n",
    "            f\"--data-output-path=gs://{GCP_STORAGE_PATH}/training_output\",\n",
    "            \"--data-name=airline_20000000.orc\",\n",
    "            \"--model-type=RandomForest\"\n",
    "        ],\n",
    "        \"hyperparameters\": {\n",
    "            \"enableTrialEarlyStopping\": True,\n",
    "            \"goal\": \"MAXIMIZE\",\n",
    "            \"hyperparameterMetricTag\": \"hpo_accuracy\",\n",
    "            \"maxParallelTrials\": 1,\n",
    "            \"maxTrials\": 1,\n",
    "            \"maxFailedTrials\": 1,\n",
    "            \"params\": [\n",
    "                {\n",
    "                    \"maxValue\": 600,\n",
    "                    \"minValue\": 100,\n",
    "                    \"parameterName\": \"hpo-num-est\",\n",
    "                    \"type\": \"INTEGER\"\n",
    "                },\n",
    "                {\n",
    "                    \"maxValue\": 20,\n",
    "                    \"minValue\": 9,\n",
    "                    \"parameterName\": \"hpo-max-depth\",\n",
    "                    \"type\": \"INTEGER\"\n",
    "                },\n",
    "                {\n",
    "                    \"maxValue\": 0.6,\n",
    "                    \"minValue\": 0.2,\n",
    "                    \"parameterName\": \"hpo-max-features\",\n",
    "                    \"type\": \"DOUBLE\"\n",
    "                }\n",
    "            ]\n",
    "        },\n",
    "        \"jobDir\": f\"gs://{GCP_STORAGE_PATH}/training_output\",\n",
    "        \"mainConfig\": {\n",
    "            \"imageUri\": f\"gcr.io/{GCP_PROJECT_NAME}/gcp_rapids_training:latest\",\n",
    "            \"acceleratorConfig\": {\n",
    "                \"count\": \"1\",\n",
    "                \"type\": \"NVIDIA_TESLA_T4\"\n",
    "            }\n",
    "        },\n",
    "        \"mainType\": \"n1-standard-8\",\n",
    "        \"region\": \"us-west1\",\n",
    "        \"scaleTier\": \"CUSTOM\"\n",
    "    }\n",
    "}\n",
    "\n",
    "with open(config_name, 'w') as writer:\n",
    "    writer.write(json.dumps(config, indent=4, sort_keys=True))\n"
   ]
  },
  {
   "cell_type": "code",
   "execution_count": null,
   "metadata": {
    "pycharm": {
     "is_executing": false,
     "name": "#%%\n"
    }
   },
   "outputs": [],
   "source": [
    "experiment_name = \"test_experiment_01\"\n",
    "command = f\"gcloud ai-platform jobs submit training {experiment_name} --config ./{config_name}\".split()\n",
    "\n",
    "_, result = exec_cmd_and_return(command)\n",
    "\n",
    "print(_)\n",
    "print(result)\n"
   ]
  }
 ],
 "metadata": {
  "kernelspec": {
   "display_name": "PyCharm (aws-sagemaker-gtc-2020)",
   "language": "python",
   "name": "pycharm-6f8a357a"
  },
  "language_info": {
   "codemirror_mode": {
    "name": "ipython",
    "version": 3
   },
   "file_extension": ".py",
   "mimetype": "text/x-python",
   "name": "python",
   "nbconvert_exporter": "python",
   "pygments_lexer": "ipython3",
   "version": "3.7.4"
  },
  "pycharm": {
   "stem_cell": {
    "cell_type": "raw",
    "metadata": {
     "collapsed": false
    },
    "source": []
   }
  }
 },
 "nbformat": 4,
 "nbformat_minor": 1
}
